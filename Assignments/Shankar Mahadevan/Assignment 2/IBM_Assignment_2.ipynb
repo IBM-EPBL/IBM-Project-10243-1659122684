{
  "nbformat": 4,
  "nbformat_minor": 0,
  "metadata": {
    "colab": {
      "provenance": [],
      "collapsed_sections": []
    },
    "kernelspec": {
      "name": "python3",
      "display_name": "Python 3"
    },
    "language_info": {
      "name": "python"
    }
  },
  "cells": [
    {
      "cell_type": "markdown",
      "source": [
        "## 1. Importing Required Libraries"
      ],
      "metadata": {
        "id": "hNCRYXeTEF6j"
      }
    },
    {
      "cell_type": "code",
      "source": [
        "import pandas as pd\n",
        "import numpy as np\n",
        "from sklearn import preprocessing"
      ],
      "metadata": {
        "id": "KiK77wu6EGOM"
      },
      "execution_count": 1,
      "outputs": []
    },
    {
      "cell_type": "markdown",
      "source": [
        "## 2. Downloading and Reading Dataset"
      ],
      "metadata": {
        "id": "N61w6StUDg6F"
      }
    },
    {
      "cell_type": "code",
      "execution_count": 2,
      "metadata": {
        "colab": {
          "base_uri": "https://localhost:8080/"
        },
        "id": "3DLCGOgADcZN",
        "outputId": "a31b63d2-5436-4de5-d045-c59f124b4334"
      },
      "outputs": [
        {
          "output_type": "stream",
          "name": "stdout",
          "text": [
            "--2022-10-07 01:30:52--  http://data.phishtank.com/data/online-valid.csv\n",
            "Resolving data.phishtank.com (data.phishtank.com)... 104.17.177.85, 104.16.101.75, 2606:4700::6810:654b, ...\n",
            "Connecting to data.phishtank.com (data.phishtank.com)|104.17.177.85|:80... connected.\n",
            "HTTP request sent, awaiting response... 301 Moved Permanently\n",
            "Location: https://data.phishtank.com/data/online-valid.csv [following]\n",
            "--2022-10-07 01:30:53--  https://data.phishtank.com/data/online-valid.csv\n",
            "Connecting to data.phishtank.com (data.phishtank.com)|104.17.177.85|:443... connected.\n",
            "HTTP request sent, awaiting response... 302 Found\n",
            "Location: https://cdn.phishtank.com/datadumps/verified_online.csv?Expires=1665106263&Signature=SYNFei5YLf3nrXucFSc5NrqJqq24PdrSwUQl-wfruJKDuoJQ29NEuPB0NVGNudB~EZ~AnXwan9XVQVRJmEw7dj~SmzzpKDhxs7ul3DmYXsuPZtlDqoGv0EBzMV8PVTzHcUXm7yV6fixEN2-Liivhe0NOPT2s9PPx7toswNgcjySCE6RtQGMHp1Elm25KzWcL1tAUvhRW2fWiV2nXR4L6OZ8~7kLpImxGJWCaG7QUi8wy7Fsg1vwPjdNHENjb63ZIOcAGcIZ~RpQgZQoOmc5J30isvS-9mBD6JsoXCTI1EraSOlbq7Yk4j0PE~nqE7QXiahm5XXeRQG8vPsIHyCZRXA__&Key-Pair-Id=APKAILB45UG3RB4CSOJA [following]\n",
            "--2022-10-07 01:30:53--  https://cdn.phishtank.com/datadumps/verified_online.csv?Expires=1665106263&Signature=SYNFei5YLf3nrXucFSc5NrqJqq24PdrSwUQl-wfruJKDuoJQ29NEuPB0NVGNudB~EZ~AnXwan9XVQVRJmEw7dj~SmzzpKDhxs7ul3DmYXsuPZtlDqoGv0EBzMV8PVTzHcUXm7yV6fixEN2-Liivhe0NOPT2s9PPx7toswNgcjySCE6RtQGMHp1Elm25KzWcL1tAUvhRW2fWiV2nXR4L6OZ8~7kLpImxGJWCaG7QUi8wy7Fsg1vwPjdNHENjb63ZIOcAGcIZ~RpQgZQoOmc5J30isvS-9mBD6JsoXCTI1EraSOlbq7Yk4j0PE~nqE7QXiahm5XXeRQG8vPsIHyCZRXA__&Key-Pair-Id=APKAILB45UG3RB4CSOJA\n",
            "Resolving cdn.phishtank.com (cdn.phishtank.com)... 104.16.101.75, 104.17.177.85, 2606:4700::6811:b155, ...\n",
            "Connecting to cdn.phishtank.com (cdn.phishtank.com)|104.16.101.75|:443... connected.\n",
            "HTTP request sent, awaiting response... 200 OK\n",
            "Length: 11804410 (11M) [text/csv]\n",
            "Saving to: ‘online-valid.csv’\n",
            "\n",
            "online-valid.csv    100%[===================>]  11.26M  58.3MB/s    in 0.2s    \n",
            "\n",
            "2022-10-07 01:30:53 (58.3 MB/s) - ‘online-valid.csv’ saved [11804410/11804410]\n",
            "\n"
          ]
        }
      ],
      "source": [
        "!wget http://data.phishtank.com/data/online-valid.csv"
      ]
    },
    {
      "cell_type": "code",
      "source": [
        "df = pd.read_csv('online-valid.csv')"
      ],
      "metadata": {
        "id": "K3UYr4eBESCA"
      },
      "execution_count": 2,
      "outputs": []
    },
    {
      "cell_type": "markdown",
      "source": [
        "## 3. Null Value Handling"
      ],
      "metadata": {
        "id": "8D6cNn_RFOcp"
      }
    },
    {
      "cell_type": "code",
      "source": [
        "print(list(df.columns))"
      ],
      "metadata": {
        "colab": {
          "base_uri": "https://localhost:8080/"
        },
        "id": "8QElEMGNFW1r",
        "outputId": "f6aa8af9-faaa-4ba5-ec4c-cc36f9125a4a"
      },
      "execution_count": 3,
      "outputs": [
        {
          "output_type": "stream",
          "name": "stdout",
          "text": [
            "['phish_id', 'url', 'phish_detail_url', 'submission_time', 'verified', 'verification_time', 'online', 'target']\n"
          ]
        }
      ]
    },
    {
      "cell_type": "code",
      "source": [
        "df.head(5)"
      ],
      "metadata": {
        "colab": {
          "base_uri": "https://localhost:8080/",
          "height": 357
        },
        "id": "3-5zasfbFdPt",
        "outputId": "de6800c1-82af-4ab9-da80-ee11b71f6236"
      },
      "execution_count": 4,
      "outputs": [
        {
          "output_type": "execute_result",
          "data": {
            "text/plain": [
              "   phish_id                                                url  \\\n",
              "0   7813693                  https://modulodispositivoapp.com/   \n",
              "1   7813690                                  http://teckph.com   \n",
              "2   7813689  https://lnterbankprestamosaprobado.nobreskateb...   \n",
              "3   7813681  https://mizvhonbak-servlet-logbnk00000000b-do....   \n",
              "4   7813680  https://mizvhonbak-servlet-logbnk00000000b-do....   \n",
              "\n",
              "                                    phish_detail_url  \\\n",
              "0  http://www.phishtank.com/phish_detail.php?phis...   \n",
              "1  http://www.phishtank.com/phish_detail.php?phis...   \n",
              "2  http://www.phishtank.com/phish_detail.php?phis...   \n",
              "3  http://www.phishtank.com/phish_detail.php?phis...   \n",
              "4  http://www.phishtank.com/phish_detail.php?phis...   \n",
              "\n",
              "             submission_time verified          verification_time online target  \n",
              "0  2022-10-07T01:04:17+00:00      yes  2022-10-07T01:06:18+00:00    yes  Other  \n",
              "1  2022-10-07T00:56:35+00:00      yes  2022-10-07T01:06:18+00:00    yes  Other  \n",
              "2  2022-10-07T00:49:56+00:00      yes  2022-10-07T00:51:36+00:00    yes  Other  \n",
              "3  2022-10-06T23:53:43+00:00      yes  2022-10-07T00:12:56+00:00    yes  Other  \n",
              "4  2022-10-06T23:53:22+00:00      yes  2022-10-07T00:12:56+00:00    yes  Other  "
            ],
            "text/html": [
              "\n",
              "  <div id=\"df-366661a7-ee5c-4750-b787-233f4aeb9118\">\n",
              "    <div class=\"colab-df-container\">\n",
              "      <div>\n",
              "<style scoped>\n",
              "    .dataframe tbody tr th:only-of-type {\n",
              "        vertical-align: middle;\n",
              "    }\n",
              "\n",
              "    .dataframe tbody tr th {\n",
              "        vertical-align: top;\n",
              "    }\n",
              "\n",
              "    .dataframe thead th {\n",
              "        text-align: right;\n",
              "    }\n",
              "</style>\n",
              "<table border=\"1\" class=\"dataframe\">\n",
              "  <thead>\n",
              "    <tr style=\"text-align: right;\">\n",
              "      <th></th>\n",
              "      <th>phish_id</th>\n",
              "      <th>url</th>\n",
              "      <th>phish_detail_url</th>\n",
              "      <th>submission_time</th>\n",
              "      <th>verified</th>\n",
              "      <th>verification_time</th>\n",
              "      <th>online</th>\n",
              "      <th>target</th>\n",
              "    </tr>\n",
              "  </thead>\n",
              "  <tbody>\n",
              "    <tr>\n",
              "      <th>0</th>\n",
              "      <td>7813693</td>\n",
              "      <td>https://modulodispositivoapp.com/</td>\n",
              "      <td>http://www.phishtank.com/phish_detail.php?phis...</td>\n",
              "      <td>2022-10-07T01:04:17+00:00</td>\n",
              "      <td>yes</td>\n",
              "      <td>2022-10-07T01:06:18+00:00</td>\n",
              "      <td>yes</td>\n",
              "      <td>Other</td>\n",
              "    </tr>\n",
              "    <tr>\n",
              "      <th>1</th>\n",
              "      <td>7813690</td>\n",
              "      <td>http://teckph.com</td>\n",
              "      <td>http://www.phishtank.com/phish_detail.php?phis...</td>\n",
              "      <td>2022-10-07T00:56:35+00:00</td>\n",
              "      <td>yes</td>\n",
              "      <td>2022-10-07T01:06:18+00:00</td>\n",
              "      <td>yes</td>\n",
              "      <td>Other</td>\n",
              "    </tr>\n",
              "    <tr>\n",
              "      <th>2</th>\n",
              "      <td>7813689</td>\n",
              "      <td>https://lnterbankprestamosaprobado.nobreskateb...</td>\n",
              "      <td>http://www.phishtank.com/phish_detail.php?phis...</td>\n",
              "      <td>2022-10-07T00:49:56+00:00</td>\n",
              "      <td>yes</td>\n",
              "      <td>2022-10-07T00:51:36+00:00</td>\n",
              "      <td>yes</td>\n",
              "      <td>Other</td>\n",
              "    </tr>\n",
              "    <tr>\n",
              "      <th>3</th>\n",
              "      <td>7813681</td>\n",
              "      <td>https://mizvhonbak-servlet-logbnk00000000b-do....</td>\n",
              "      <td>http://www.phishtank.com/phish_detail.php?phis...</td>\n",
              "      <td>2022-10-06T23:53:43+00:00</td>\n",
              "      <td>yes</td>\n",
              "      <td>2022-10-07T00:12:56+00:00</td>\n",
              "      <td>yes</td>\n",
              "      <td>Other</td>\n",
              "    </tr>\n",
              "    <tr>\n",
              "      <th>4</th>\n",
              "      <td>7813680</td>\n",
              "      <td>https://mizvhonbak-servlet-logbnk00000000b-do....</td>\n",
              "      <td>http://www.phishtank.com/phish_detail.php?phis...</td>\n",
              "      <td>2022-10-06T23:53:22+00:00</td>\n",
              "      <td>yes</td>\n",
              "      <td>2022-10-07T00:12:56+00:00</td>\n",
              "      <td>yes</td>\n",
              "      <td>Other</td>\n",
              "    </tr>\n",
              "  </tbody>\n",
              "</table>\n",
              "</div>\n",
              "      <button class=\"colab-df-convert\" onclick=\"convertToInteractive('df-366661a7-ee5c-4750-b787-233f4aeb9118')\"\n",
              "              title=\"Convert this dataframe to an interactive table.\"\n",
              "              style=\"display:none;\">\n",
              "        \n",
              "  <svg xmlns=\"http://www.w3.org/2000/svg\" height=\"24px\"viewBox=\"0 0 24 24\"\n",
              "       width=\"24px\">\n",
              "    <path d=\"M0 0h24v24H0V0z\" fill=\"none\"/>\n",
              "    <path d=\"M18.56 5.44l.94 2.06.94-2.06 2.06-.94-2.06-.94-.94-2.06-.94 2.06-2.06.94zm-11 1L8.5 8.5l.94-2.06 2.06-.94-2.06-.94L8.5 2.5l-.94 2.06-2.06.94zm10 10l.94 2.06.94-2.06 2.06-.94-2.06-.94-.94-2.06-.94 2.06-2.06.94z\"/><path d=\"M17.41 7.96l-1.37-1.37c-.4-.4-.92-.59-1.43-.59-.52 0-1.04.2-1.43.59L10.3 9.45l-7.72 7.72c-.78.78-.78 2.05 0 2.83L4 21.41c.39.39.9.59 1.41.59.51 0 1.02-.2 1.41-.59l7.78-7.78 2.81-2.81c.8-.78.8-2.07 0-2.86zM5.41 20L4 18.59l7.72-7.72 1.47 1.35L5.41 20z\"/>\n",
              "  </svg>\n",
              "      </button>\n",
              "      \n",
              "  <style>\n",
              "    .colab-df-container {\n",
              "      display:flex;\n",
              "      flex-wrap:wrap;\n",
              "      gap: 12px;\n",
              "    }\n",
              "\n",
              "    .colab-df-convert {\n",
              "      background-color: #E8F0FE;\n",
              "      border: none;\n",
              "      border-radius: 50%;\n",
              "      cursor: pointer;\n",
              "      display: none;\n",
              "      fill: #1967D2;\n",
              "      height: 32px;\n",
              "      padding: 0 0 0 0;\n",
              "      width: 32px;\n",
              "    }\n",
              "\n",
              "    .colab-df-convert:hover {\n",
              "      background-color: #E2EBFA;\n",
              "      box-shadow: 0px 1px 2px rgba(60, 64, 67, 0.3), 0px 1px 3px 1px rgba(60, 64, 67, 0.15);\n",
              "      fill: #174EA6;\n",
              "    }\n",
              "\n",
              "    [theme=dark] .colab-df-convert {\n",
              "      background-color: #3B4455;\n",
              "      fill: #D2E3FC;\n",
              "    }\n",
              "\n",
              "    [theme=dark] .colab-df-convert:hover {\n",
              "      background-color: #434B5C;\n",
              "      box-shadow: 0px 1px 3px 1px rgba(0, 0, 0, 0.15);\n",
              "      filter: drop-shadow(0px 1px 2px rgba(0, 0, 0, 0.3));\n",
              "      fill: #FFFFFF;\n",
              "    }\n",
              "  </style>\n",
              "\n",
              "      <script>\n",
              "        const buttonEl =\n",
              "          document.querySelector('#df-366661a7-ee5c-4750-b787-233f4aeb9118 button.colab-df-convert');\n",
              "        buttonEl.style.display =\n",
              "          google.colab.kernel.accessAllowed ? 'block' : 'none';\n",
              "\n",
              "        async function convertToInteractive(key) {\n",
              "          const element = document.querySelector('#df-366661a7-ee5c-4750-b787-233f4aeb9118');\n",
              "          const dataTable =\n",
              "            await google.colab.kernel.invokeFunction('convertToInteractive',\n",
              "                                                     [key], {});\n",
              "          if (!dataTable) return;\n",
              "\n",
              "          const docLinkHtml = 'Like what you see? Visit the ' +\n",
              "            '<a target=\"_blank\" href=https://colab.research.google.com/notebooks/data_table.ipynb>data table notebook</a>'\n",
              "            + ' to learn more about interactive tables.';\n",
              "          element.innerHTML = '';\n",
              "          dataTable['output_type'] = 'display_data';\n",
              "          await google.colab.output.renderOutput(dataTable, element);\n",
              "          const docLink = document.createElement('div');\n",
              "          docLink.innerHTML = docLinkHtml;\n",
              "          element.appendChild(docLink);\n",
              "        }\n",
              "      </script>\n",
              "    </div>\n",
              "  </div>\n",
              "  "
            ]
          },
          "metadata": {},
          "execution_count": 4
        }
      ]
    },
    {
      "cell_type": "markdown",
      "source": [
        "**Here, verified, online and target are categorical columns**"
      ],
      "metadata": {
        "id": "X7-XiC4pFh4J"
      }
    },
    {
      "cell_type": "code",
      "source": [
        "for col in ['verified', 'online', 'target']:\n",
        "  le = preprocessing.LabelEncoder()\n",
        "  df[col] = le.fit_transform(df[col])\n",
        "  df[col].fillna(df[col].mode())"
      ],
      "metadata": {
        "id": "dR2E-z_JEdGI"
      },
      "execution_count": 5,
      "outputs": []
    },
    {
      "cell_type": "markdown",
      "source": [
        "**Other Columns can be handled by filling with mean value**"
      ],
      "metadata": {
        "id": "qlv6Du7pGYbs"
      }
    },
    {
      "cell_type": "code",
      "source": [
        "for col in df.columns:\n",
        "  if col not in ['verified', 'online', 'target', 'url', 'phish_detail_url', 'submission_time', 'verification_time']:\n",
        "    print(col)\n",
        "    df[col].fillna(df[col].mean())"
      ],
      "metadata": {
        "colab": {
          "base_uri": "https://localhost:8080/"
        },
        "id": "2fnd2nCiEfbC",
        "outputId": "9a28197d-1dff-47f9-a5b9-54a23ccae723"
      },
      "execution_count": 8,
      "outputs": [
        {
          "output_type": "stream",
          "name": "stdout",
          "text": [
            "phish_id\n"
          ]
        }
      ]
    }
  ]
}